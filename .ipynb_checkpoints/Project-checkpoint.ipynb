{
 "cells": [
  {
   "cell_type": "markdown",
   "metadata": {},
   "source": [
    "# Predicting Crime in US Communites\n",
    "## Team member: Bibata Rabba Idi, Fatima Javid, JianHui (Jake) Li "
   ]
  },
  {
   "cell_type": "code",
   "execution_count": 1,
   "metadata": {},
   "outputs": [],
   "source": [
    "# Import libraries\n",
    "import pandas as pd\n",
    "import numpy as np\n",
    "import matplotlib.pyplot as plt\n",
    "import seaborn as sns\n",
    "\n",
    "from sklearn.model_selection import train_test_split\n",
    "from sklearn.ensemble import RandomForestRegressor\n",
    "from sklearn import metrics\n",
    "\n",
    "from sklearn.model_selection import GridSearchCV\n",
    "import pickle\n",
    " \n",
    "\n",
    "%matplotlib inline"
   ]
  },
  {
   "cell_type": "code",
   "execution_count": 2,
   "metadata": {},
   "outputs": [
    {
     "data": {
      "text/html": [
       "<div>\n",
       "<style scoped>\n",
       "    .dataframe tbody tr th:only-of-type {\n",
       "        vertical-align: middle;\n",
       "    }\n",
       "\n",
       "    .dataframe tbody tr th {\n",
       "        vertical-align: top;\n",
       "    }\n",
       "\n",
       "    .dataframe thead th {\n",
       "        text-align: right;\n",
       "    }\n",
       "</style>\n",
       "<table border=\"1\" class=\"dataframe\">\n",
       "  <thead>\n",
       "    <tr style=\"text-align: right;\">\n",
       "      <th></th>\n",
       "      <th>communityName</th>\n",
       "      <th>state</th>\n",
       "      <th>countyCode</th>\n",
       "      <th>communityCode</th>\n",
       "      <th>population</th>\n",
       "      <th>householdsize</th>\n",
       "      <th>racepctblack</th>\n",
       "      <th>racePctWhite</th>\n",
       "      <th>racePctAsian</th>\n",
       "      <th>racePctHisp</th>\n",
       "      <th>...</th>\n",
       "      <th>burglaries</th>\n",
       "      <th>burglPerPop</th>\n",
       "      <th>larcenies</th>\n",
       "      <th>larcPerPop</th>\n",
       "      <th>autoTheft</th>\n",
       "      <th>autoTheftPerPop</th>\n",
       "      <th>arsons</th>\n",
       "      <th>arsonsPerPop</th>\n",
       "      <th>ViolentCrimesPerPop</th>\n",
       "      <th>nonViolPerPop</th>\n",
       "    </tr>\n",
       "  </thead>\n",
       "  <tbody>\n",
       "    <tr>\n",
       "      <th>0</th>\n",
       "      <td>BerkeleyHeightstownship</td>\n",
       "      <td>NJ</td>\n",
       "      <td>39.0</td>\n",
       "      <td>5320.0</td>\n",
       "      <td>11980</td>\n",
       "      <td>3.10</td>\n",
       "      <td>1.37</td>\n",
       "      <td>91.78</td>\n",
       "      <td>6.50</td>\n",
       "      <td>1.88</td>\n",
       "      <td>...</td>\n",
       "      <td>14.0</td>\n",
       "      <td>114.85</td>\n",
       "      <td>138.0</td>\n",
       "      <td>1132.08</td>\n",
       "      <td>16.0</td>\n",
       "      <td>131.26</td>\n",
       "      <td>2.0</td>\n",
       "      <td>16.41</td>\n",
       "      <td>41.02</td>\n",
       "      <td>1394.59</td>\n",
       "    </tr>\n",
       "    <tr>\n",
       "      <th>1</th>\n",
       "      <td>Marpletownship</td>\n",
       "      <td>PA</td>\n",
       "      <td>45.0</td>\n",
       "      <td>47616.0</td>\n",
       "      <td>23123</td>\n",
       "      <td>2.82</td>\n",
       "      <td>0.80</td>\n",
       "      <td>95.57</td>\n",
       "      <td>3.44</td>\n",
       "      <td>0.85</td>\n",
       "      <td>...</td>\n",
       "      <td>57.0</td>\n",
       "      <td>242.37</td>\n",
       "      <td>376.0</td>\n",
       "      <td>1598.78</td>\n",
       "      <td>26.0</td>\n",
       "      <td>110.55</td>\n",
       "      <td>1.0</td>\n",
       "      <td>4.25</td>\n",
       "      <td>127.56</td>\n",
       "      <td>1955.95</td>\n",
       "    </tr>\n",
       "    <tr>\n",
       "      <th>2</th>\n",
       "      <td>Tigardcity</td>\n",
       "      <td>OR</td>\n",
       "      <td>NaN</td>\n",
       "      <td>NaN</td>\n",
       "      <td>29344</td>\n",
       "      <td>2.43</td>\n",
       "      <td>0.74</td>\n",
       "      <td>94.33</td>\n",
       "      <td>3.43</td>\n",
       "      <td>2.35</td>\n",
       "      <td>...</td>\n",
       "      <td>274.0</td>\n",
       "      <td>758.14</td>\n",
       "      <td>1797.0</td>\n",
       "      <td>4972.19</td>\n",
       "      <td>136.0</td>\n",
       "      <td>376.30</td>\n",
       "      <td>22.0</td>\n",
       "      <td>60.87</td>\n",
       "      <td>218.59</td>\n",
       "      <td>6167.51</td>\n",
       "    </tr>\n",
       "    <tr>\n",
       "      <th>3</th>\n",
       "      <td>Gloversvillecity</td>\n",
       "      <td>NY</td>\n",
       "      <td>35.0</td>\n",
       "      <td>29443.0</td>\n",
       "      <td>16656</td>\n",
       "      <td>2.40</td>\n",
       "      <td>1.70</td>\n",
       "      <td>97.35</td>\n",
       "      <td>0.50</td>\n",
       "      <td>0.70</td>\n",
       "      <td>...</td>\n",
       "      <td>225.0</td>\n",
       "      <td>1301.78</td>\n",
       "      <td>716.0</td>\n",
       "      <td>4142.56</td>\n",
       "      <td>47.0</td>\n",
       "      <td>271.93</td>\n",
       "      <td>NaN</td>\n",
       "      <td>NaN</td>\n",
       "      <td>306.64</td>\n",
       "      <td>NaN</td>\n",
       "    </tr>\n",
       "    <tr>\n",
       "      <th>4</th>\n",
       "      <td>Bemidjicity</td>\n",
       "      <td>MN</td>\n",
       "      <td>7.0</td>\n",
       "      <td>5068.0</td>\n",
       "      <td>11245</td>\n",
       "      <td>2.76</td>\n",
       "      <td>0.53</td>\n",
       "      <td>89.16</td>\n",
       "      <td>1.17</td>\n",
       "      <td>0.52</td>\n",
       "      <td>...</td>\n",
       "      <td>91.0</td>\n",
       "      <td>728.93</td>\n",
       "      <td>1060.0</td>\n",
       "      <td>8490.87</td>\n",
       "      <td>91.0</td>\n",
       "      <td>728.93</td>\n",
       "      <td>5.0</td>\n",
       "      <td>40.05</td>\n",
       "      <td>NaN</td>\n",
       "      <td>9988.79</td>\n",
       "    </tr>\n",
       "  </tbody>\n",
       "</table>\n",
       "<p>5 rows × 146 columns</p>\n",
       "</div>"
      ],
      "text/plain": [
       "             communityName state  countyCode  communityCode  population  \\\n",
       "0  BerkeleyHeightstownship    NJ        39.0         5320.0       11980   \n",
       "1           Marpletownship    PA        45.0        47616.0       23123   \n",
       "2               Tigardcity    OR         NaN            NaN       29344   \n",
       "3         Gloversvillecity    NY        35.0        29443.0       16656   \n",
       "4              Bemidjicity    MN         7.0         5068.0       11245   \n",
       "\n",
       "   householdsize  racepctblack  racePctWhite  racePctAsian  racePctHisp  ...  \\\n",
       "0           3.10          1.37         91.78          6.50         1.88  ...   \n",
       "1           2.82          0.80         95.57          3.44         0.85  ...   \n",
       "2           2.43          0.74         94.33          3.43         2.35  ...   \n",
       "3           2.40          1.70         97.35          0.50         0.70  ...   \n",
       "4           2.76          0.53         89.16          1.17         0.52  ...   \n",
       "\n",
       "   burglaries  burglPerPop  larcenies  larcPerPop  autoTheft  autoTheftPerPop  \\\n",
       "0        14.0       114.85      138.0     1132.08       16.0           131.26   \n",
       "1        57.0       242.37      376.0     1598.78       26.0           110.55   \n",
       "2       274.0       758.14     1797.0     4972.19      136.0           376.30   \n",
       "3       225.0      1301.78      716.0     4142.56       47.0           271.93   \n",
       "4        91.0       728.93     1060.0     8490.87       91.0           728.93   \n",
       "\n",
       "   arsons  arsonsPerPop  ViolentCrimesPerPop  nonViolPerPop  \n",
       "0     2.0         16.41                41.02        1394.59  \n",
       "1     1.0          4.25               127.56        1955.95  \n",
       "2    22.0         60.87               218.59        6167.51  \n",
       "3     NaN           NaN               306.64            NaN  \n",
       "4     5.0         40.05                  NaN        9988.79  \n",
       "\n",
       "[5 rows x 146 columns]"
      ]
     },
     "execution_count": 2,
     "metadata": {},
     "output_type": "execute_result"
    }
   ],
   "source": [
    "# Load data\n",
    "df = pd.read_csv('crimedata.csv')\n",
    "df.head()"
   ]
  },
  {
   "cell_type": "code",
   "execution_count": 3,
   "metadata": {},
   "outputs": [
    {
     "data": {
      "text/plain": [
       "(2215, 146)"
      ]
     },
     "execution_count": 3,
     "metadata": {},
     "output_type": "execute_result"
    }
   ],
   "source": [
    "# Shape of dataframe\n",
    "df.shape"
   ]
  },
  {
   "cell_type": "code",
   "execution_count": 4,
   "metadata": {},
   "outputs": [
    {
     "name": "stdout",
     "output_type": "stream",
     "text": [
      "communityName             0\n",
      "state                     0\n",
      "countyCode             1221\n",
      "communityCode          1224\n",
      "population                0\n",
      "                       ... \n",
      "autoTheftPerPop           3\n",
      "arsons                   91\n",
      "arsonsPerPop             91\n",
      "ViolentCrimesPerPop     221\n",
      "nonViolPerPop            97\n",
      "Length: 146, dtype: int64\n",
      "\n",
      "Total number of nulls: 44592\n"
     ]
    }
   ],
   "source": [
    "# Number of nulls from each column\n",
    "print(df.isnull().sum())\n",
    "\n",
    "# Total number of nulls\n",
    "print(\"\\nTotal number of nulls:\", df.isnull().sum().sum())"
   ]
  },
  {
   "cell_type": "code",
   "execution_count": 5,
   "metadata": {},
   "outputs": [
    {
     "name": "stdout",
     "output_type": "stream",
     "text": [
      "['countyCode', 'communityCode', 'OtherPerCap', 'LemasSwornFT', 'LemasSwFTPerPop', 'LemasSwFTFieldOps', 'LemasSwFTFieldPerPop', 'LemasTotalReq', 'LemasTotReqPerPop', 'PolicReqPerOffic', 'PolicPerPop', 'RacialMatchCommPol', 'PctPolicWhite', 'PctPolicBlack', 'PctPolicHisp', 'PctPolicAsian', 'PctPolicMinor', 'OfficAssgnDrugUnits', 'NumKindsDrugsSeiz', 'PolicAveOTWorked', 'PolicCars', 'PolicOperBudg', 'LemasPctPolicOnPatr', 'LemasGangUnitDeploy', 'PolicBudgPerPop', 'rapes', 'rapesPerPop', 'robberies', 'robbbPerPop', 'assaults', 'assaultPerPop', 'burglaries', 'burglPerPop', 'larcenies', 'larcPerPop', 'autoTheft', 'autoTheftPerPop', 'arsons', 'arsonsPerPop', 'ViolentCrimesPerPop', 'nonViolPerPop'] \n",
      "\n",
      "countyCode              1221\n",
      "communityCode           1224\n",
      "OtherPerCap                1\n",
      "LemasSwornFT            1872\n",
      "LemasSwFTPerPop         1872\n",
      "LemasSwFTFieldOps       1872\n",
      "LemasSwFTFieldPerPop    1872\n",
      "LemasTotalReq           1872\n",
      "LemasTotReqPerPop       1872\n",
      "PolicReqPerOffic        1872\n",
      "PolicPerPop             1872\n",
      "RacialMatchCommPol      1872\n",
      "PctPolicWhite           1872\n",
      "PctPolicBlack           1872\n",
      "PctPolicHisp            1872\n",
      "PctPolicAsian           1872\n",
      "PctPolicMinor           1872\n",
      "OfficAssgnDrugUnits     1872\n",
      "NumKindsDrugsSeiz       1872\n",
      "PolicAveOTWorked        1872\n",
      "PolicCars               1872\n",
      "PolicOperBudg           1872\n",
      "LemasPctPolicOnPatr     1872\n",
      "LemasGangUnitDeploy     1872\n",
      "PolicBudgPerPop         1872\n",
      "rapes                    208\n",
      "rapesPerPop              208\n",
      "robberies                  1\n",
      "robbbPerPop                1\n",
      "assaults                  13\n",
      "assaultPerPop             13\n",
      "burglaries                 3\n",
      "burglPerPop                3\n",
      "larcenies                  3\n",
      "larcPerPop                 3\n",
      "autoTheft                  3\n",
      "autoTheftPerPop            3\n",
      "arsons                    91\n",
      "arsonsPerPop              91\n",
      "ViolentCrimesPerPop      221\n",
      "nonViolPerPop             97\n",
      "dtype: int64\n"
     ]
    }
   ],
   "source": [
    "# Make a list of columns that contain nulls\n",
    "cols_with_nulls = df.columns[df.isna().any()].tolist()\n",
    "print(cols_with_nulls, \"\\n\")\n",
    "\n",
    "# Show number of nulls for each column that contain nulls\n",
    "print(df[cols_with_nulls].isnull().sum())"
   ]
  },
  {
   "cell_type": "code",
   "execution_count": 6,
   "metadata": {},
   "outputs": [
    {
     "name": "stdout",
     "output_type": "stream",
     "text": [
      "Columns before dropping: 146\n",
      "Columns after dropping: 122\n"
     ]
    }
   ],
   "source": [
    "# Remove crime columns below PolicBudgPerPop and OtherPerCap from the list\n",
    "del cols_with_nulls[25:]\n",
    "del cols_with_nulls[2]\n",
    "\n",
    "# Drop columns using cols_with_nulls\n",
    "print(\"Columns before dropping:\", df.shape[1])\n",
    "df.drop(cols_with_nulls, axis=1, inplace=True)\n",
    "print(\"Columns after dropping:\", df.shape[1])"
   ]
  },
  {
   "cell_type": "code",
   "execution_count": 7,
   "metadata": {},
   "outputs": [],
   "source": [
    "# Fill in Na values with -999\n",
    "cols_with_nulls_2 = df.columns[df.isna().any()].tolist()\n",
    "df[cols_with_nulls_2] = df[cols_with_nulls_2].fillna(-999)"
   ]
  },
  {
   "cell_type": "code",
   "execution_count": 8,
   "metadata": {},
   "outputs": [
    {
     "data": {
      "text/plain": [
       "0"
      ]
     },
     "execution_count": 8,
     "metadata": {},
     "output_type": "execute_result"
    }
   ],
   "source": [
    "# Check number of nulls\n",
    "df.isnull().sum().sum()"
   ]
  },
  {
   "cell_type": "code",
   "execution_count": 9,
   "metadata": {},
   "outputs": [
    {
     "data": {
      "text/plain": [
       "0"
      ]
     },
     "execution_count": 9,
     "metadata": {},
     "output_type": "execute_result"
    }
   ],
   "source": [
    "# Check for duplicates\n",
    "df.duplicated().sum()"
   ]
  },
  {
   "cell_type": "code",
   "execution_count": 10,
   "metadata": {},
   "outputs": [],
   "source": [
    "# Create a column for the sum of all crimes\n",
    "df[\"total_crime\"] = df[\"murders\"] + df[\"rapes\"] + df[\"robberies\"] + df[\"assaults\"] + df[\"burglaries\"] + df[\"larcenies\"] + df[\"autoTheft\"] + df[\"arsons\"]"
   ]
  },
  {
   "cell_type": "code",
   "execution_count": 11,
   "metadata": {
    "scrolled": false
   },
   "outputs": [
    {
     "data": {
      "text/plain": [
       "<matplotlib.axes._subplots.AxesSubplot at 0x7fcf98147880>"
      ]
     },
     "execution_count": 11,
     "metadata": {},
     "output_type": "execute_result"
    },
    {
     "data": {
      "image/png": "[encoded data removed]",
      "text/plain": [
       "<Figure size 432x288 with 1 Axes>"
      ]
     },
     "metadata": {
      "needs_background": "light"
     },
     "output_type": "display_data"
    }
   ],
   "source": [
    "# Boxplot for sum of all crimes\n",
    "sns.boxplot(data=df, y='total_crime')"
   ]
  },
  {
   "cell_type": "code",
   "execution_count": 12,
   "metadata": {},
   "outputs": [],
   "source": [
    "# Keep only records where total_crime is greater than 0\n",
    "df = df[df['total_crime'] > 0]"
   ]
  },
  {
   "cell_type": "code",
   "execution_count": 13,
   "metadata": {
    "scrolled": false
   },
   "outputs": [
    {
     "data": {
      "text/plain": [
       "<matplotlib.axes._subplots.AxesSubplot at 0x7fcfa81bb5e0>"
      ]
     },
     "execution_count": 13,
     "metadata": {},
     "output_type": "execute_result"
    },
    {
     "data": {
      "image/png": "[encoded data removed]",
      "text/plain": [
       "<Figure size 432x288 with 1 Axes>"
      ]
     },
     "metadata": {
      "needs_background": "light"
     },
     "output_type": "display_data"
    }
   ],
   "source": [
    "# Check distribution of data using histogram\n",
    "df.total_crime.hist(bins=20)"
   ]
  },
  {
   "cell_type": "code",
   "execution_count": 14,
   "metadata": {
    "tags": []
   },
   "outputs": [
    {
     "name": "stdout",
     "output_type": "stream",
     "text": [
      "['communityName', 'state', 'population', 'householdsize', 'racepctblack', 'racePctWhite', 'racePctAsian', 'racePctHisp', 'agePct12t21', 'agePct12t29', 'agePct16t24', 'agePct65up', 'numbUrban', 'pctUrban', 'medIncome', 'pctWWage', 'pctWFarmSelf', 'pctWInvInc', 'pctWSocSec', 'pctWPubAsst', 'pctWRetire', 'medFamInc', 'perCapInc', 'whitePerCap', 'blackPerCap', 'indianPerCap', 'AsianPerCap', 'OtherPerCap', 'HispPerCap', 'NumUnderPov', 'PctPopUnderPov', 'PctLess9thGrade', 'PctNotHSGrad', 'PctBSorMore', 'PctUnemployed', 'PctEmploy', 'PctEmplManu', 'PctEmplProfServ', 'PctOccupManu', 'PctOccupMgmtProf', 'MalePctDivorce', 'MalePctNevMarr', 'FemalePctDiv', 'TotalPctDiv', 'PersPerFam', 'PctFam2Par', 'PctKids2Par', 'PctYoungKids2Par', 'PctTeen2Par', 'PctWorkMomYoungKids', 'PctWorkMom', 'NumKidsBornNeverMar', 'PctKidsBornNeverMar', 'NumImmig', 'PctImmigRecent', 'PctImmigRec5', 'PctImmigRec8', 'PctImmigRec10', 'PctRecentImmig', 'PctRecImmig5', 'PctRecImmig8', 'PctRecImmig10', 'PctSpeakEnglOnly', 'PctNotSpeakEnglWell', 'PctLargHouseFam', 'PctLargHouseOccup', 'PersPerOccupHous', 'PersPerOwnOccHous', 'PersPerRentOccHous', 'PctPersOwnOccup', 'PctPersDenseHous', 'PctHousLess3BR', 'MedNumBR', 'HousVacant', 'PctHousOccup', 'PctHousOwnOcc', 'PctVacantBoarded', 'PctVacMore6Mos', 'MedYrHousBuilt', 'PctHousNoPhone', 'PctWOFullPlumb', 'OwnOccLowQuart', 'OwnOccMedVal', 'OwnOccHiQuart', 'OwnOccQrange', 'RentLowQ', 'RentMedian', 'RentHighQ', 'RentQrange', 'MedRent', 'MedRentPctHousInc', 'MedOwnCostPctInc', 'MedOwnCostPctIncNoMtg', 'NumInShelters', 'NumStreet', 'PctForeignBorn', 'PctBornSameState', 'PctSameHouse85', 'PctSameCity85', 'PctSameState85', 'LandArea', 'PopDens', 'PctUsePubTrans', 'LemasPctOfficDrugUn', 'murders', 'murdPerPop', 'rapes', 'rapesPerPop', 'robberies', 'robbbPerPop', 'assaults', 'assaultPerPop', 'burglaries', 'burglPerPop', 'larcenies', 'larcPerPop', 'autoTheft', 'autoTheftPerPop', 'arsons', 'arsonsPerPop', 'ViolentCrimesPerPop', 'nonViolPerPop', 'total_crime']\n"
     ]
    }
   ],
   "source": [
    "# Define all_features using all the columns in the dataframe\n",
    "all_features = df.columns.tolist()\n",
    "print(all_features)"
   ]
  },
  {
   "cell_type": "code",
   "execution_count": 15,
   "metadata": {},
   "outputs": [
    {
     "name": "stdout",
     "output_type": "stream",
     "text": [
      "['population', 'householdsize', 'agePct12t21', 'agePct12t29', 'agePct16t24', 'agePct65up', 'numbUrban', 'pctUrban', 'medIncome', 'pctWWage', 'pctWFarmSelf', 'pctWInvInc', 'pctWSocSec', 'pctWPubAsst', 'pctWRetire', 'medFamInc', 'perCapInc', 'NumUnderPov', 'PctPopUnderPov', 'PctLess9thGrade', 'PctNotHSGrad', 'PctBSorMore', 'PctUnemployed', 'PctEmploy', 'PctEmplManu', 'PctEmplProfServ', 'PctOccupManu', 'PctOccupMgmtProf', 'MalePctDivorce', 'MalePctNevMarr', 'FemalePctDiv', 'TotalPctDiv', 'PersPerFam', 'PctFam2Par', 'PctKids2Par', 'PctYoungKids2Par', 'PctTeen2Par', 'PctWorkMomYoungKids', 'PctWorkMom', 'NumKidsBornNeverMar', 'PctKidsBornNeverMar', 'PctSpeakEnglOnly', 'PctNotSpeakEnglWell', 'PctLargHouseFam', 'PctLargHouseOccup', 'PersPerOccupHous', 'PersPerOwnOccHous', 'PersPerRentOccHous', 'PctPersOwnOccup', 'PctPersDenseHous', 'PctHousLess3BR', 'MedNumBR', 'HousVacant', 'PctHousOccup', 'PctHousOwnOcc', 'PctVacantBoarded', 'PctVacMore6Mos', 'MedYrHousBuilt', 'PctHousNoPhone', 'PctWOFullPlumb', 'OwnOccLowQuart', 'OwnOccMedVal', 'OwnOccHiQuart', 'OwnOccQrange', 'RentLowQ', 'RentMedian', 'RentHighQ', 'RentQrange', 'MedRent', 'MedRentPctHousInc', 'MedOwnCostPctInc', 'MedOwnCostPctIncNoMtg', 'NumInShelters', 'NumStreet', 'PctForeignBorn', 'PctBornSameState', 'PctSameHouse85', 'PctSameCity85', 'PctSameState85', 'LandArea', 'PopDens', 'PctUsePubTrans', 'LemasPctOfficDrugUn']\n",
      "\n",
      "Number of features after removing unnecessary features:  83\n"
     ]
    }
   ],
   "source": [
    "# Remove irrelevant features\n",
    "del all_features[104:]\n",
    "del all_features[0:2]\n",
    "features_to_remove = [\"racepctblack\", \"racePctWhite\", \"racePctAsian\", \"racePctHisp\", 'whitePerCap', 'blackPerCap', 'indianPerCap', 'AsianPerCap', 'OtherPerCap', 'HispPerCap', 'NumImmig', 'PctImmigRecent', 'PctImmigRec5', 'PctImmigRec8', 'PctImmigRec10', 'PctRecentImmig', 'PctRecImmig5', 'PctRecImmig8', 'PctRecImmig10']\n",
    "all_features = [i for i in all_features if i not in features_to_remove]\n",
    "\n",
    "print(all_features)\n",
    "print(\"\\nNumber of features after removing unnecessary features: \", len(all_features))"
   ]
  },
  {
   "cell_type": "code",
   "execution_count": 16,
   "metadata": {},
   "outputs": [
    {
     "data": {
      "text/plain": [
       "RandomForestRegressor(random_state=2)"
      ]
     },
     "execution_count": 16,
     "metadata": {},
     "output_type": "execute_result"
    }
   ],
   "source": [
    "# Initial random forest model using all features\n",
    "X = df[all_features]\n",
    "y = df[\"total_crime\"]\n",
    "\n",
    "X_train, X_test, y_train, y_test = train_test_split(X, y, test_size=0.3, random_state=2)\n",
    "\n",
    "model = RandomForestRegressor(random_state=2)\n",
    "model.fit(X_train, y_train)"
   ]
  },
  {
   "cell_type": "code",
   "execution_count": 17,
   "metadata": {},
   "outputs": [
    {
     "name": "stdout",
     "output_type": "stream",
     "text": [
      "R-Squared Score: 0.9587636397597512\n",
      "Mean Absolute Error: 912.3118940609953\n"
     ]
    }
   ],
   "source": [
    "# R^2 and mean absolute error score\n",
    "y_pred = model.predict(X_test)\n",
    "\n",
    "r_squared = metrics.r2_score(y_test, y_pred)\n",
    "print('R-Squared Score:', r_squared)\n",
    "\n",
    "mae = metrics.mean_absolute_error(y_test, y_pred)\n",
    "print(\"Mean Absolute Error:\", mae)"
   ]
  },
  {
   "cell_type": "code",
   "execution_count": 18,
   "metadata": {
    "scrolled": true
   },
   "outputs": [
    {
     "name": "stdout",
     "output_type": "stream",
     "text": [
      "numbUrban                0.211628\n",
      "NumUnderPov              0.182961\n",
      "population               0.178533\n",
      "NumKidsBornNeverMar      0.127977\n",
      "NumStreet                0.112703\n",
      "PctUsePubTrans           0.048384\n",
      "NumInShelters            0.039377\n",
      "HousVacant               0.035404\n",
      "PctForeignBorn           0.009320\n",
      "PctPersDenseHous         0.007341\n",
      "OwnOccQrange             0.003648\n",
      "PctHousOccup             0.002820\n",
      "OwnOccHiQuart            0.002796\n",
      "PctHousOwnOcc            0.002144\n",
      "MalePctDivorce           0.002042\n",
      "PopDens                  0.001697\n",
      "PctBornSameState         0.001650\n",
      "MedRent                  0.001553\n",
      "RentQrange               0.001450\n",
      "PctBSorMore              0.001320\n",
      "PctEmplManu              0.001275\n",
      "PctPersOwnOccup          0.001263\n",
      "PctYoungKids2Par         0.001005\n",
      "RentLowQ                 0.000986\n",
      "PersPerRentOccHous       0.000956\n",
      "householdsize            0.000954\n",
      "PctVacantBoarded         0.000935\n",
      "PctKids2Par              0.000929\n",
      "FemalePctDiv             0.000910\n",
      "MedRentPctHousInc        0.000871\n",
      "PctSameCity85            0.000857\n",
      "PctFam2Par               0.000841\n",
      "PctTeen2Par              0.000812\n",
      "PctOccupMgmtProf         0.000797\n",
      "pctWPubAsst              0.000796\n",
      "PctPopUnderPov           0.000713\n",
      "TotalPctDiv              0.000703\n",
      "PctSameState85           0.000625\n",
      "LandArea                 0.000617\n",
      "agePct16t24              0.000578\n",
      "PctWOFullPlumb           0.000452\n",
      "PctWorkMom               0.000408\n",
      "agePct12t21              0.000348\n",
      "PctVacMore6Mos           0.000313\n",
      "LemasPctOfficDrugUn      0.000303\n",
      "pctWFarmSelf             0.000288\n",
      "pctWSocSec               0.000272\n",
      "PctNotSpeakEnglWell      0.000267\n",
      "PctWorkMomYoungKids      0.000259\n",
      "OwnOccLowQuart           0.000236\n",
      "MalePctNevMarr           0.000235\n",
      "PctLess9thGrade          0.000231\n",
      "pctWRetire               0.000229\n",
      "agePct12t29              0.000228\n",
      "PctHousNoPhone           0.000223\n",
      "PctEmplProfServ          0.000222\n",
      "PctLargHouseOccup        0.000200\n",
      "medIncome                0.000199\n",
      "PctSameHouse85           0.000198\n",
      "MedOwnCostPctIncNoMtg    0.000179\n",
      "PctLargHouseFam          0.000172\n",
      "MedOwnCostPctInc         0.000163\n",
      "PctHousLess3BR           0.000162\n",
      "PctSpeakEnglOnly         0.000158\n",
      "PctKidsBornNeverMar      0.000154\n",
      "MedYrHousBuilt           0.000153\n",
      "pctWInvInc               0.000148\n",
      "PctOccupManu             0.000142\n",
      "perCapInc                0.000131\n",
      "agePct65up               0.000128\n",
      "pctWWage                 0.000118\n",
      "RentHighQ                0.000109\n",
      "PctUnemployed            0.000104\n",
      "medFamInc                0.000099\n",
      "PersPerOccupHous         0.000090\n",
      "OwnOccMedVal             0.000085\n",
      "PersPerFam               0.000084\n",
      "PersPerOwnOccHous        0.000078\n",
      "PctEmploy                0.000074\n",
      "RentMedian               0.000071\n",
      "PctNotHSGrad             0.000048\n",
      "MedNumBR                 0.000035\n",
      "pctUrban                 0.000035\n",
      "dtype: float64\n"
     ]
    }
   ],
   "source": [
    "# Check feature importance\n",
    "feature_imp = pd.Series(model.feature_importances_, index=all_features).sort_values(ascending=False)\n",
    "with pd.option_context('display.max_rows', None, 'display.max_columns', None):  # more options can be specified also\n",
    "    print(feature_imp)"
   ]
  },
  {
   "cell_type": "code",
   "execution_count": 19,
   "metadata": {},
   "outputs": [
    {
     "data": {
      "text/plain": [
       "['numbUrban', 'NumUnderPov', 'population', 'NumKidsBornNeverMar', 'NumStreet']"
      ]
     },
     "execution_count": 19,
     "metadata": {},
     "output_type": "execute_result"
    }
   ],
   "source": [
    "# Use the top 5 features to run our model again\n",
    "list_of_features = feature_imp.index.tolist()\n",
    "top_5_features = list_of_features[:5]\n",
    "top_5_features"
   ]
  },
  {
   "cell_type": "code",
   "execution_count": 20,
   "metadata": {},
   "outputs": [
    {
     "data": {
      "text/plain": [
       "RandomForestRegressor(random_state=2)"
      ]
     },
     "execution_count": 20,
     "metadata": {},
     "output_type": "execute_result"
    }
   ],
   "source": [
    "# 2nd model using top 5 features based on feature importance\n",
    "X = df[top_5_features]\n",
    "y = df[\"total_crime\"]\n",
    "\n",
    "X_train, X_test, y_train, y_test = train_test_split(X, y, test_size=0.3, random_state=2)\n",
    "\n",
    "model = RandomForestRegressor(random_state=2)\n",
    "model.fit(X_train, y_train)"
   ]
  },
  {
   "cell_type": "code",
   "execution_count": 21,
   "metadata": {},
   "outputs": [
    {
     "name": "stdout",
     "output_type": "stream",
     "text": [
      "R-Squared Score: 0.9341716477079319\n",
      "Mean Absolute Error: 980.7956982343499\n"
     ]
    }
   ],
   "source": [
    "# R^2 and mean absolute error score\n",
    "y_pred = model.predict(X_test)\n",
    "\n",
    "r_squared = metrics.r2_score(y_test, y_pred)\n",
    "print('R-Squared Score:', r_squared)\n",
    "\n",
    "mae = metrics.mean_absolute_error(y_test, y_pred)\n",
    "print(\"Mean Absolute Error:\", mae)"
   ]
  },
  {
   "cell_type": "code",
   "execution_count": 22,
   "metadata": {},
   "outputs": [],
   "source": [
    "# Save model\n",
    "filename = \"crime_model.pkl\"\n",
    "pickle.dump(model, open(filename, 'wb'))"
   ]
  }
 ],
 "metadata": {
  "kernelspec": {
   "display_name": "Python 3",
   "language": "python",
   "name": "python3"
  },
  "language_info": {
   "codemirror_mode": {
    "name": "ipython",
    "version": 3
   },
   "file_extension": ".py",
   "mimetype": "text/x-python",
   "name": "python",
   "nbconvert_exporter": "python",
   "pygments_lexer": "ipython3",
   "version": "3.8.3"
  },
  "vscode": {
   "interpreter": {
    "hash": "31f2aee4e71d21fbe5cf8b01ff0e069b9275f58929596ceb00d14d90e3e16cd6"
   }
  }
 },
 "nbformat": 4,
 "nbformat_minor": 5
}
